{
 "cells": [
  {
   "cell_type": "code",
   "execution_count": 2,
   "metadata": {},
   "outputs": [],
   "source": [
    "import matplotlib.pyplot as plt"
   ]
  },
  {
   "cell_type": "code",
   "execution_count": 3,
   "metadata": {},
   "outputs": [],
   "source": [
    "# analyze matrix dimension\n",
    "matrix_dim_list = [200, 400, 800, 1600, 3200, 6400, 10000, 20000, 40000]\n",
    "runtime_1d_list = [0.00015, 0.00086, 0.00604, 0.05750, 0.83716, 8.29887, 35.08759, 263.15892, ]\n",
    "runtime_2d_list = [0.00018, 0.00068, 0.00604, 0.02310, 0.16824, 1.21481, 4.62339, 37.36907, ]\n",
    "\n",
    "plt.plot(matrix_dim_list, runtime_1d_list, 'r--', matrix_dim_list, runtime_2d_list, 'bs')\n",
    "plt.show()\n"
   ]
  },
  {
   "cell_type": "code",
   "execution_count": null,
   "metadata": {},
   "outputs": [],
   "source": [
    "# analyze block size\n",
    "block_size_list = [4, 8, 16, 32, 64, 128, 256, 512, 1024]\n",
    "runtime_1d_list = []\n",
    "runtime_2d_list = []\n",
    "\n",
    "# plt.plot(block_size_list, runtime_1d_list, 'r--', block_size_list, runtime_2d_list, 'bs')\n",
    "# plt.show()"
   ]
  }
 ],
 "metadata": {
  "kernelspec": {
   "display_name": "Python 3 (Anaconda 5.1.0)",
   "language": "python",
   "name": "anaconda3-5.1.0"
  },
  "language_info": {
   "codemirror_mode": {
    "name": "ipython",
    "version": 3
   },
   "file_extension": ".py",
   "mimetype": "text/x-python",
   "name": "python",
   "nbconvert_exporter": "python",
   "pygments_lexer": "ipython3",
   "version": "3.6.4"
  }
 },
 "nbformat": 4,
 "nbformat_minor": 4
}
